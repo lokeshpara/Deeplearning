{
  "nbformat": 4,
  "nbformat_minor": 0,
  "metadata": {
    "colab": {
      "name": "part(b).ipynb",
      "provenance": [],
      "authorship_tag": "ABX9TyMGvQyLx3WlFFcNt+YhShr1",
      "include_colab_link": true
    },
    "kernelspec": {
      "name": "python3",
      "display_name": "Python 3"
    },
    "accelerator": "GPU"
  },
  "cells": [
    {
      "cell_type": "markdown",
      "metadata": {
        "id": "view-in-github",
        "colab_type": "text"
      },
      "source": [
        "<a href=\"https://colab.research.google.com/github/lokeshpara/Deeplearning/blob/S12/part(b).ipynb\" target=\"_parent\"><img src=\"https://colab.research.google.com/assets/colab-badge.svg\" alt=\"Open In Colab\"/></a>"
      ]
    },
    {
      "cell_type": "code",
      "metadata": {
        "id": "qT94RN7yHfL3",
        "colab_type": "code",
        "colab": {
          "base_uri": "https://localhost:8080/",
          "height": 139
        },
        "outputId": "eae27a9a-44f7-4e9a-8a75-7e88f953273f"
      },
      "source": [
        "from google.colab import drive\n",
        "drive.mount('/content/gdrive')\n",
        "%cd /content/gdrive/My\\ Drive/Colab\\ Notebooks/EVA/S12/"
      ],
      "execution_count": 2,
      "outputs": [
        {
          "output_type": "stream",
          "text": [
            "Go to this URL in a browser: https://accounts.google.com/o/oauth2/auth?client_id=947318989803-6bn6qk8qdgf4n4g3pfee6491hc0brc4i.apps.googleusercontent.com&redirect_uri=urn%3aietf%3awg%3aoauth%3a2.0%3aoob&response_type=code&scope=email%20https%3a%2f%2fwww.googleapis.com%2fauth%2fdocs.test%20https%3a%2f%2fwww.googleapis.com%2fauth%2fdrive%20https%3a%2f%2fwww.googleapis.com%2fauth%2fdrive.photos.readonly%20https%3a%2f%2fwww.googleapis.com%2fauth%2fpeopleapi.readonly\n",
            "\n",
            "Enter your authorization code:\n",
            "··········\n",
            "Mounted at /content/gdrive\n",
            "/content/gdrive/My Drive/Colab Notebooks/EVA/S12\n"
          ],
          "name": "stdout"
        }
      ]
    },
    {
      "cell_type": "code",
      "metadata": {
        "id": "86UI9el8HL-c",
        "colab_type": "code",
        "colab": {}
      },
      "source": [
        "import pandas as pd\n",
        "import json\n",
        "from matplotlib import pyplot as plt\n",
        "from sklearn.cluster import KMeans"
      ],
      "execution_count": 0,
      "outputs": []
    },
    {
      "cell_type": "code",
      "metadata": {
        "id": "F19oGCjqHVZJ",
        "colab_type": "code",
        "colab": {
          "base_uri": "https://localhost:8080/",
          "height": 34
        },
        "outputId": "22f2d16b-8cc3-4d7e-d4a3-d66d4e5d50b1"
      },
      "source": [
        "file = open('dog.json')\n",
        "data = json.load(file)\n",
        "print(data.keys())"
      ],
      "execution_count": 14,
      "outputs": [
        {
          "output_type": "stream",
          "text": [
            "dict_keys(['info', 'images', 'annotations', 'licenses', 'categories'])\n"
          ],
          "name": "stdout"
        }
      ]
    },
    {
      "cell_type": "code",
      "metadata": {
        "id": "JUEGcxD6HrGk",
        "colab_type": "code",
        "colab": {
          "base_uri": "https://localhost:8080/",
          "height": 204
        },
        "outputId": "b9100365-2b97-4788-b148-11ff534eb780"
      },
      "source": [
        "annotations_df = pd.DataFrame.from_dict(data['annotations'])\n",
        "images_df = pd.DataFrame.from_dict(data['images'])\n",
        "\n",
        "images_df.head()"
      ],
      "execution_count": 15,
      "outputs": [
        {
          "output_type": "execute_result",
          "data": {
            "text/html": [
              "<div>\n",
              "<style scoped>\n",
              "    .dataframe tbody tr th:only-of-type {\n",
              "        vertical-align: middle;\n",
              "    }\n",
              "\n",
              "    .dataframe tbody tr th {\n",
              "        vertical-align: top;\n",
              "    }\n",
              "\n",
              "    .dataframe thead th {\n",
              "        text-align: right;\n",
              "    }\n",
              "</style>\n",
              "<table border=\"1\" class=\"dataframe\">\n",
              "  <thead>\n",
              "    <tr style=\"text-align: right;\">\n",
              "      <th></th>\n",
              "      <th>id</th>\n",
              "      <th>width</th>\n",
              "      <th>height</th>\n",
              "      <th>file_name</th>\n",
              "      <th>license</th>\n",
              "      <th>date_captured</th>\n",
              "    </tr>\n",
              "  </thead>\n",
              "  <tbody>\n",
              "    <tr>\n",
              "      <th>0</th>\n",
              "      <td>0</td>\n",
              "      <td>300</td>\n",
              "      <td>430</td>\n",
              "      <td>1.jpg</td>\n",
              "      <td>1</td>\n",
              "      <td></td>\n",
              "    </tr>\n",
              "    <tr>\n",
              "      <th>1</th>\n",
              "      <td>1</td>\n",
              "      <td>400</td>\n",
              "      <td>500</td>\n",
              "      <td>2.jpg</td>\n",
              "      <td>1</td>\n",
              "      <td></td>\n",
              "    </tr>\n",
              "    <tr>\n",
              "      <th>2</th>\n",
              "      <td>2</td>\n",
              "      <td>333</td>\n",
              "      <td>500</td>\n",
              "      <td>3.jpg</td>\n",
              "      <td>1</td>\n",
              "      <td></td>\n",
              "    </tr>\n",
              "    <tr>\n",
              "      <th>3</th>\n",
              "      <td>3</td>\n",
              "      <td>500</td>\n",
              "      <td>334</td>\n",
              "      <td>4.jpg</td>\n",
              "      <td>1</td>\n",
              "      <td></td>\n",
              "    </tr>\n",
              "    <tr>\n",
              "      <th>4</th>\n",
              "      <td>4</td>\n",
              "      <td>500</td>\n",
              "      <td>375</td>\n",
              "      <td>5.jpg</td>\n",
              "      <td>1</td>\n",
              "      <td></td>\n",
              "    </tr>\n",
              "  </tbody>\n",
              "</table>\n",
              "</div>"
            ],
            "text/plain": [
              "   id  width  height file_name  license date_captured\n",
              "0   0    300     430     1.jpg        1              \n",
              "1   1    400     500     2.jpg        1              \n",
              "2   2    333     500     3.jpg        1              \n",
              "3   3    500     334     4.jpg        1              \n",
              "4   4    500     375     5.jpg        1              "
            ]
          },
          "metadata": {
            "tags": []
          },
          "execution_count": 15
        }
      ]
    },
    {
      "cell_type": "code",
      "metadata": {
        "id": "0s83xLBnHrDP",
        "colab_type": "code",
        "colab": {
          "base_uri": "https://localhost:8080/",
          "height": 204
        },
        "outputId": "5da16329-9e43-485e-9830-995783d87082"
      },
      "source": [
        "annotations_df.head()"
      ],
      "execution_count": 16,
      "outputs": [
        {
          "output_type": "execute_result",
          "data": {
            "text/html": [
              "<div>\n",
              "<style scoped>\n",
              "    .dataframe tbody tr th:only-of-type {\n",
              "        vertical-align: middle;\n",
              "    }\n",
              "\n",
              "    .dataframe tbody tr th {\n",
              "        vertical-align: top;\n",
              "    }\n",
              "\n",
              "    .dataframe thead th {\n",
              "        text-align: right;\n",
              "    }\n",
              "</style>\n",
              "<table border=\"1\" class=\"dataframe\">\n",
              "  <thead>\n",
              "    <tr style=\"text-align: right;\">\n",
              "      <th></th>\n",
              "      <th>id</th>\n",
              "      <th>image_id</th>\n",
              "      <th>segmentation</th>\n",
              "      <th>area</th>\n",
              "      <th>bbox</th>\n",
              "      <th>iscrowd</th>\n",
              "    </tr>\n",
              "  </thead>\n",
              "  <tbody>\n",
              "    <tr>\n",
              "      <th>0</th>\n",
              "      <td>0</td>\n",
              "      <td>0</td>\n",
              "      <td>[75, 47, 257, 47, 257, 405, 75, 405]</td>\n",
              "      <td>65156</td>\n",
              "      <td>[75, 47, 182, 358]</td>\n",
              "      <td>0</td>\n",
              "    </tr>\n",
              "    <tr>\n",
              "      <th>1</th>\n",
              "      <td>1</td>\n",
              "      <td>1</td>\n",
              "      <td>[112, 31, 370, 31, 370, 486, 112, 486]</td>\n",
              "      <td>117390</td>\n",
              "      <td>[112, 31, 258, 455]</td>\n",
              "      <td>0</td>\n",
              "    </tr>\n",
              "    <tr>\n",
              "      <th>2</th>\n",
              "      <td>2</td>\n",
              "      <td>2</td>\n",
              "      <td>[3, 62, 263, 62, 263, 447, 3, 447]</td>\n",
              "      <td>100100</td>\n",
              "      <td>[3, 62, 260, 385]</td>\n",
              "      <td>0</td>\n",
              "    </tr>\n",
              "    <tr>\n",
              "      <th>3</th>\n",
              "      <td>3</td>\n",
              "      <td>3</td>\n",
              "      <td>[204, 10, 458, 10, 458, 302, 204, 302]</td>\n",
              "      <td>74168</td>\n",
              "      <td>[204, 10, 254, 292]</td>\n",
              "      <td>0</td>\n",
              "    </tr>\n",
              "    <tr>\n",
              "      <th>4</th>\n",
              "      <td>4</td>\n",
              "      <td>4</td>\n",
              "      <td>[7, 86, 458, 86, 458, 341, 7, 341]</td>\n",
              "      <td>115005</td>\n",
              "      <td>[7, 86, 451, 255]</td>\n",
              "      <td>0</td>\n",
              "    </tr>\n",
              "  </tbody>\n",
              "</table>\n",
              "</div>"
            ],
            "text/plain": [
              "   id image_id  ...                 bbox  iscrowd\n",
              "0   0        0  ...   [75, 47, 182, 358]        0\n",
              "1   1        1  ...  [112, 31, 258, 455]        0\n",
              "2   2        2  ...    [3, 62, 260, 385]        0\n",
              "3   3        3  ...  [204, 10, 254, 292]        0\n",
              "4   4        4  ...    [7, 86, 451, 255]        0\n",
              "\n",
              "[5 rows x 6 columns]"
            ]
          },
          "metadata": {
            "tags": []
          },
          "execution_count": 16
        }
      ]
    },
    {
      "cell_type": "code",
      "metadata": {
        "id": "QqahqWpVHrAW",
        "colab_type": "code",
        "colab": {
          "base_uri": "https://localhost:8080/",
          "height": 204
        },
        "outputId": "11088c1b-a524-4dd3-b07f-1de7a244dccc"
      },
      "source": [
        "imp_df = pd.concat([images_df, annotations_df], 1)[['file_name', 'width', 'height', 'bbox']]\n",
        "x_ = []\n",
        "y_ = []\n",
        "w_ = []\n",
        "h_ = [] \n",
        "for row in range(imp_df.shape[0]):\n",
        "  x_.append(imp_df['bbox'][row][0])\n",
        "  y_.append(imp_df['bbox'][row][1])\n",
        "  w_.append(imp_df['bbox'][row][2])\n",
        "  h_.append(imp_df['bbox'][row][3])\n",
        "box_df = pd.DataFrame(list(zip(x_, y_, w_, h_)), columns =['x', 'y', 'box_width', 'box_height'])\n",
        "imp_df = pd.concat([imp_df, box_df], 1)\n",
        "imp_df = imp_df.drop('bbox', axis =1)\n",
        "imp_df.head()"
      ],
      "execution_count": 17,
      "outputs": [
        {
          "output_type": "execute_result",
          "data": {
            "text/html": [
              "<div>\n",
              "<style scoped>\n",
              "    .dataframe tbody tr th:only-of-type {\n",
              "        vertical-align: middle;\n",
              "    }\n",
              "\n",
              "    .dataframe tbody tr th {\n",
              "        vertical-align: top;\n",
              "    }\n",
              "\n",
              "    .dataframe thead th {\n",
              "        text-align: right;\n",
              "    }\n",
              "</style>\n",
              "<table border=\"1\" class=\"dataframe\">\n",
              "  <thead>\n",
              "    <tr style=\"text-align: right;\">\n",
              "      <th></th>\n",
              "      <th>file_name</th>\n",
              "      <th>width</th>\n",
              "      <th>height</th>\n",
              "      <th>x</th>\n",
              "      <th>y</th>\n",
              "      <th>box_width</th>\n",
              "      <th>box_height</th>\n",
              "    </tr>\n",
              "  </thead>\n",
              "  <tbody>\n",
              "    <tr>\n",
              "      <th>0</th>\n",
              "      <td>1.jpg</td>\n",
              "      <td>300</td>\n",
              "      <td>430</td>\n",
              "      <td>75</td>\n",
              "      <td>47</td>\n",
              "      <td>182</td>\n",
              "      <td>358</td>\n",
              "    </tr>\n",
              "    <tr>\n",
              "      <th>1</th>\n",
              "      <td>2.jpg</td>\n",
              "      <td>400</td>\n",
              "      <td>500</td>\n",
              "      <td>112</td>\n",
              "      <td>31</td>\n",
              "      <td>258</td>\n",
              "      <td>455</td>\n",
              "    </tr>\n",
              "    <tr>\n",
              "      <th>2</th>\n",
              "      <td>3.jpg</td>\n",
              "      <td>333</td>\n",
              "      <td>500</td>\n",
              "      <td>3</td>\n",
              "      <td>62</td>\n",
              "      <td>260</td>\n",
              "      <td>385</td>\n",
              "    </tr>\n",
              "    <tr>\n",
              "      <th>3</th>\n",
              "      <td>4.jpg</td>\n",
              "      <td>500</td>\n",
              "      <td>334</td>\n",
              "      <td>204</td>\n",
              "      <td>10</td>\n",
              "      <td>254</td>\n",
              "      <td>292</td>\n",
              "    </tr>\n",
              "    <tr>\n",
              "      <th>4</th>\n",
              "      <td>5.jpg</td>\n",
              "      <td>500</td>\n",
              "      <td>375</td>\n",
              "      <td>7</td>\n",
              "      <td>86</td>\n",
              "      <td>451</td>\n",
              "      <td>255</td>\n",
              "    </tr>\n",
              "  </tbody>\n",
              "</table>\n",
              "</div>"
            ],
            "text/plain": [
              "  file_name  width  height    x   y  box_width  box_height\n",
              "0     1.jpg    300     430   75  47        182         358\n",
              "1     2.jpg    400     500  112  31        258         455\n",
              "2     3.jpg    333     500    3  62        260         385\n",
              "3     4.jpg    500     334  204  10        254         292\n",
              "4     5.jpg    500     375    7  86        451         255"
            ]
          },
          "metadata": {
            "tags": []
          },
          "execution_count": 17
        }
      ]
    },
    {
      "cell_type": "code",
      "metadata": {
        "id": "IHP8nWkvIs5J",
        "colab_type": "code",
        "colab": {
          "base_uri": "https://localhost:8080/",
          "height": 204
        },
        "outputId": "6004470f-9770-4b3b-cd1f-1569a32282a1"
      },
      "source": [
        "imp_df['x'] = imp_df['x'] / imp_df['width']\n",
        "imp_df['y'] = imp_df['y'] / imp_df['height']\n",
        "imp_df['box_width'] = imp_df['box_width'] / imp_df['width']\n",
        "imp_df['box_height'] = imp_df['box_height'] / imp_df['height']\n",
        "imp_df.head()"
      ],
      "execution_count": 18,
      "outputs": [
        {
          "output_type": "execute_result",
          "data": {
            "text/html": [
              "<div>\n",
              "<style scoped>\n",
              "    .dataframe tbody tr th:only-of-type {\n",
              "        vertical-align: middle;\n",
              "    }\n",
              "\n",
              "    .dataframe tbody tr th {\n",
              "        vertical-align: top;\n",
              "    }\n",
              "\n",
              "    .dataframe thead th {\n",
              "        text-align: right;\n",
              "    }\n",
              "</style>\n",
              "<table border=\"1\" class=\"dataframe\">\n",
              "  <thead>\n",
              "    <tr style=\"text-align: right;\">\n",
              "      <th></th>\n",
              "      <th>file_name</th>\n",
              "      <th>width</th>\n",
              "      <th>height</th>\n",
              "      <th>x</th>\n",
              "      <th>y</th>\n",
              "      <th>box_width</th>\n",
              "      <th>box_height</th>\n",
              "    </tr>\n",
              "  </thead>\n",
              "  <tbody>\n",
              "    <tr>\n",
              "      <th>0</th>\n",
              "      <td>1.jpg</td>\n",
              "      <td>300</td>\n",
              "      <td>430</td>\n",
              "      <td>0.250000</td>\n",
              "      <td>0.109302</td>\n",
              "      <td>0.606667</td>\n",
              "      <td>0.832558</td>\n",
              "    </tr>\n",
              "    <tr>\n",
              "      <th>1</th>\n",
              "      <td>2.jpg</td>\n",
              "      <td>400</td>\n",
              "      <td>500</td>\n",
              "      <td>0.280000</td>\n",
              "      <td>0.062000</td>\n",
              "      <td>0.645000</td>\n",
              "      <td>0.910000</td>\n",
              "    </tr>\n",
              "    <tr>\n",
              "      <th>2</th>\n",
              "      <td>3.jpg</td>\n",
              "      <td>333</td>\n",
              "      <td>500</td>\n",
              "      <td>0.009009</td>\n",
              "      <td>0.124000</td>\n",
              "      <td>0.780781</td>\n",
              "      <td>0.770000</td>\n",
              "    </tr>\n",
              "    <tr>\n",
              "      <th>3</th>\n",
              "      <td>4.jpg</td>\n",
              "      <td>500</td>\n",
              "      <td>334</td>\n",
              "      <td>0.408000</td>\n",
              "      <td>0.029940</td>\n",
              "      <td>0.508000</td>\n",
              "      <td>0.874251</td>\n",
              "    </tr>\n",
              "    <tr>\n",
              "      <th>4</th>\n",
              "      <td>5.jpg</td>\n",
              "      <td>500</td>\n",
              "      <td>375</td>\n",
              "      <td>0.014000</td>\n",
              "      <td>0.229333</td>\n",
              "      <td>0.902000</td>\n",
              "      <td>0.680000</td>\n",
              "    </tr>\n",
              "  </tbody>\n",
              "</table>\n",
              "</div>"
            ],
            "text/plain": [
              "  file_name  width  height         x         y  box_width  box_height\n",
              "0     1.jpg    300     430  0.250000  0.109302   0.606667    0.832558\n",
              "1     2.jpg    400     500  0.280000  0.062000   0.645000    0.910000\n",
              "2     3.jpg    333     500  0.009009  0.124000   0.780781    0.770000\n",
              "3     4.jpg    500     334  0.408000  0.029940   0.508000    0.874251\n",
              "4     5.jpg    500     375  0.014000  0.229333   0.902000    0.680000"
            ]
          },
          "metadata": {
            "tags": []
          },
          "execution_count": 18
        }
      ]
    },
    {
      "cell_type": "code",
      "metadata": {
        "id": "4nOjt2O_Ixxz",
        "colab_type": "code",
        "colab": {
          "base_uri": "https://localhost:8080/",
          "height": 284
        },
        "outputId": "9af2917e-3e03-4de3-85f9-c3a68729dac7"
      },
      "source": [
        "imp_stripped = imp_df[[\"box_width\", \"box_height\"]].to_numpy()\n",
        "plt.scatter(imp_stripped[:,0], imp_stripped[:,1])"
      ],
      "execution_count": 19,
      "outputs": [
        {
          "output_type": "execute_result",
          "data": {
            "text/plain": [
              "<matplotlib.collections.PathCollection at 0x7fb8f03f6cc0>"
            ]
          },
          "metadata": {
            "tags": []
          },
          "execution_count": 19
        },
        {
          "output_type": "display_data",
          "data": {
            "image/png": "[encoded data removed]",
            "text/plain": [
              "<Figure size 432x288 with 1 Axes>"
            ]
          },
          "metadata": {
            "tags": [],
            "needs_background": "light"
          }
        }
      ]
    },
    {
      "cell_type": "code",
      "metadata": {
        "id": "Zje-p5cmJxS-",
        "colab_type": "code",
        "colab": {
          "base_uri": "https://localhost:8080/",
          "height": 295
        },
        "outputId": "93428fa8-a4f9-465d-b914-99d4f402fc5d"
      },
      "source": [
        "wcss = []\n",
        "for i in range(1, 11):\n",
        "    kmeans = KMeans(n_clusters=i, init='k-means++', max_iter=300, n_init=10, random_state=0)\n",
        "    kmeans.fit(imp_stripped)\n",
        "    wcss.append(kmeans.inertia_)\n",
        "plt.plot(range(1, 11), wcss)\n",
        "plt.title('Elbow Method')\n",
        "plt.xlabel('Number of clusters')\n",
        "plt.ylabel('WCSS')\n",
        "plt.show()"
      ],
      "execution_count": 39,
      "outputs": [
        {
          "output_type": "display_data",
          "data": {
            "image/png": "[encoded data removed]",
            "text/plain": [
              "<Figure size 432x288 with 1 Axes>"
            ]
          },
          "metadata": {
            "tags": [],
            "needs_background": "light"
          }
        }
      ]
    },
    {
      "cell_type": "code",
      "metadata": {
        "id": "8dRq9XmYJ1-F",
        "colab_type": "code",
        "colab": {}
      },
      "source": [
        "kmeans=KMeans(n_clusters=2,init='k-means++',max_iter = 300,n_init=10,random_state=0)\n",
        "\n",
        "y_kmeans=kmeans.fit_predict(imp_stripped)"
      ],
      "execution_count": 0,
      "outputs": []
    },
    {
      "cell_type": "code",
      "metadata": {
        "id": "wn9u7Wz5J7fn",
        "colab_type": "code",
        "colab": {
          "base_uri": "https://localhost:8080/",
          "height": 295
        },
        "outputId": "5b30bfcf-910b-4b8d-b60a-cc487d8db642"
      },
      "source": [
        "plt.scatter(imp_stripped[y_kmeans==0, 0], imp_stripped[y_kmeans ==0, 1], s=100, c='black', label = 'Cluster1')\n",
        "plt.scatter(imp_stripped[y_kmeans==1, 0], imp_stripped[y_kmeans ==1, 1], s=100, c='orange', label = 'Cluster2')\n",
        "plt.scatter(kmeans.cluster_centers_[:, 0], kmeans.cluster_centers_[:, 1], s=300, c='blue', label = 'Centroids') \n",
        "plt.title('Cluster of images')\n",
        "plt.xlabel('width')\n",
        "plt.ylabel ('Height')\n",
        "plt.legend()\n",
        "plt.show()"
      ],
      "execution_count": 43,
      "outputs": [
        {
          "output_type": "display_data",
          "data": {
            "image/png": "[encoded data removed]",
            "text/plain": [
              "<Figure size 432x288 with 1 Axes>"
            ]
          },
          "metadata": {
            "tags": [],
            "needs_background": "light"
          }
        }
      ]
    },
    {
      "cell_type": "code",
      "metadata": {
        "id": "SML3nAHNMCvM",
        "colab_type": "code",
        "colab": {}
      },
      "source": [
        ""
      ],
      "execution_count": 0,
      "outputs": []
    }
  ]
}