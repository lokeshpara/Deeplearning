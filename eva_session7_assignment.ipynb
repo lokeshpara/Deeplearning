{
  "nbformat": 4,
  "nbformat_minor": 0,
  "metadata": {
    "colab": {
      "name": "eva_session7_assignment.ipynb",
      "provenance": [],
      "collapsed_sections": [],
      "include_colab_link": true
    },
    "kernelspec": {
      "name": "python3",
      "display_name": "Python 3"
    },
    "accelerator": "GPU",
    "widgets": {
      "application/vnd.jupyter.widget-state+json": {
        "8587fe58f8d744ee9660932c89b1de4b": {
          "model_module": "@jupyter-widgets/controls",
          "model_name": "HBoxModel",
          "state": {
            "_view_name": "HBoxView",
            "_dom_classes": [],
            "_model_name": "HBoxModel",
            "_view_module": "@jupyter-widgets/controls",
            "_model_module_version": "1.5.0",
            "_view_count": null,
            "_view_module_version": "1.5.0",
            "box_style": "",
            "layout": "IPY_MODEL_8b93c5cf814c4e618a48f101eb20b05d",
            "_model_module": "@jupyter-widgets/controls",
            "children": [
              "IPY_MODEL_26f1ebe19b824e9385215f1957f1890f",
              "IPY_MODEL_8b46b4c5bcb746209236255704220ba1"
            ]
          }
        },
        "8b93c5cf814c4e618a48f101eb20b05d": {
          "model_module": "@jupyter-widgets/base",
          "model_name": "LayoutModel",
          "state": {
            "_view_name": "LayoutView",
            "grid_template_rows": null,
            "right": null,
            "justify_content": null,
            "_view_module": "@jupyter-widgets/base",
            "overflow": null,
            "_model_module_version": "1.2.0",
            "_view_count": null,
            "flex_flow": null,
            "width": null,
            "min_width": null,
            "border": null,
            "align_items": null,
            "bottom": null,
            "_model_module": "@jupyter-widgets/base",
            "top": null,
            "grid_column": null,
            "overflow_y": null,
            "overflow_x": null,
            "grid_auto_flow": null,
            "grid_area": null,
            "grid_template_columns": null,
            "flex": null,
            "_model_name": "LayoutModel",
            "justify_items": null,
            "grid_row": null,
            "max_height": null,
            "align_content": null,
            "visibility": null,
            "align_self": null,
            "height": null,
            "min_height": null,
            "padding": null,
            "grid_auto_rows": null,
            "grid_gap": null,
            "max_width": null,
            "order": null,
            "_view_module_version": "1.2.0",
            "grid_template_areas": null,
            "object_position": null,
            "object_fit": null,
            "grid_auto_columns": null,
            "margin": null,
            "display": null,
            "left": null
          }
        },
        "26f1ebe19b824e9385215f1957f1890f": {
          "model_module": "@jupyter-widgets/controls",
          "model_name": "IntProgressModel",
          "state": {
            "_view_name": "ProgressView",
            "style": "IPY_MODEL_b2b402bc5ffb4692a46645fd6f709953",
            "_dom_classes": [],
            "description": "",
            "_model_name": "IntProgressModel",
            "bar_style": "info",
            "max": 1,
            "_view_module": "@jupyter-widgets/controls",
            "_model_module_version": "1.5.0",
            "value": 1,
            "_view_count": null,
            "_view_module_version": "1.5.0",
            "orientation": "horizontal",
            "min": 0,
            "description_tooltip": null,
            "_model_module": "@jupyter-widgets/controls",
            "layout": "IPY_MODEL_d6f0aa1307ae4ef78be5563234b6be2a"
          }
        },
        "8b46b4c5bcb746209236255704220ba1": {
          "model_module": "@jupyter-widgets/controls",
          "model_name": "HTMLModel",
          "state": {
            "_view_name": "HTMLView",
            "style": "IPY_MODEL_2cd8c1b0ece94eca963f5105f99af647",
            "_dom_classes": [],
            "description": "",
            "_model_name": "HTMLModel",
            "placeholder": "​",
            "_view_module": "@jupyter-widgets/controls",
            "_model_module_version": "1.5.0",
            "value": "170500096it [00:30, 14718766.84it/s]",
            "_view_count": null,
            "_view_module_version": "1.5.0",
            "description_tooltip": null,
            "_model_module": "@jupyter-widgets/controls",
            "layout": "IPY_MODEL_1259cf5be2da41ef91e2aa06c16d37d2"
          }
        },
        "b2b402bc5ffb4692a46645fd6f709953": {
          "model_module": "@jupyter-widgets/controls",
          "model_name": "ProgressStyleModel",
          "state": {
            "_view_name": "StyleView",
            "_model_name": "ProgressStyleModel",
            "description_width": "",
            "_view_module": "@jupyter-widgets/base",
            "_model_module_version": "1.5.0",
            "_view_count": null,
            "_view_module_version": "1.2.0",
            "bar_color": null,
            "_model_module": "@jupyter-widgets/controls"
          }
        },
        "d6f0aa1307ae4ef78be5563234b6be2a": {
          "model_module": "@jupyter-widgets/base",
          "model_name": "LayoutModel",
          "state": {
            "_view_name": "LayoutView",
            "grid_template_rows": null,
            "right": null,
            "justify_content": null,
            "_view_module": "@jupyter-widgets/base",
            "overflow": null,
            "_model_module_version": "1.2.0",
            "_view_count": null,
            "flex_flow": null,
            "width": null,
            "min_width": null,
            "border": null,
            "align_items": null,
            "bottom": null,
            "_model_module": "@jupyter-widgets/base",
            "top": null,
            "grid_column": null,
            "overflow_y": null,
            "overflow_x": null,
            "grid_auto_flow": null,
            "grid_area": null,
            "grid_template_columns": null,
            "flex": null,
            "_model_name": "LayoutModel",
            "justify_items": null,
            "grid_row": null,
            "max_height": null,
            "align_content": null,
            "visibility": null,
            "align_self": null,
            "height": null,
            "min_height": null,
            "padding": null,
            "grid_auto_rows": null,
            "grid_gap": null,
            "max_width": null,
            "order": null,
            "_view_module_version": "1.2.0",
            "grid_template_areas": null,
            "object_position": null,
            "object_fit": null,
            "grid_auto_columns": null,
            "margin": null,
            "display": null,
            "left": null
          }
        },
        "2cd8c1b0ece94eca963f5105f99af647": {
          "model_module": "@jupyter-widgets/controls",
          "model_name": "DescriptionStyleModel",
          "state": {
            "_view_name": "StyleView",
            "_model_name": "DescriptionStyleModel",
            "description_width": "",
            "_view_module": "@jupyter-widgets/base",
            "_model_module_version": "1.5.0",
            "_view_count": null,
            "_view_module_version": "1.2.0",
            "_model_module": "@jupyter-widgets/controls"
          }
        },
        "1259cf5be2da41ef91e2aa06c16d37d2": {
          "model_module": "@jupyter-widgets/base",
          "model_name": "LayoutModel",
          "state": {
            "_view_name": "LayoutView",
            "grid_template_rows": null,
            "right": null,
            "justify_content": null,
            "_view_module": "@jupyter-widgets/base",
            "overflow": null,
            "_model_module_version": "1.2.0",
            "_view_count": null,
            "flex_flow": null,
            "width": null,
            "min_width": null,
            "border": null,
            "align_items": null,
            "bottom": null,
            "_model_module": "@jupyter-widgets/base",
            "top": null,
            "grid_column": null,
            "overflow_y": null,
            "overflow_x": null,
            "grid_auto_flow": null,
            "grid_area": null,
            "grid_template_columns": null,
            "flex": null,
            "_model_name": "LayoutModel",
            "justify_items": null,
            "grid_row": null,
            "max_height": null,
            "align_content": null,
            "visibility": null,
            "align_self": null,
            "height": null,
            "min_height": null,
            "padding": null,
            "grid_auto_rows": null,
            "grid_gap": null,
            "max_width": null,
            "order": null,
            "_view_module_version": "1.2.0",
            "grid_template_areas": null,
            "object_position": null,
            "object_fit": null,
            "grid_auto_columns": null,
            "margin": null,
            "display": null,
            "left": null
          }
        }
      }
    }
  },
  "cells": [
    {
      "cell_type": "markdown",
      "metadata": {
        "id": "view-in-github",
        "colab_type": "text"
      },
      "source": [
        "<a href=\"https://colab.research.google.com/github/lokeshpara/samplegit/blob/S7/eva_session7_assignment.ipynb\" target=\"_parent\"><img src=\"https://colab.research.google.com/assets/colab-badge.svg\" alt=\"Open In Colab\"/></a>"
      ]
    },
    {
      "cell_type": "markdown",
      "metadata": {
        "id": "LtXZg5fecIPE",
        "colab_type": "text"
      },
      "source": [
        "## import libraries\n"
      ]
    },
    {
      "cell_type": "code",
      "metadata": {
        "id": "kOpaFS50ChFF",
        "colab_type": "code",
        "colab": {}
      },
      "source": [
        "from __future__ import print_function\n",
        "import torch\n",
        "import torch.nn as nn\n",
        "import torch.nn.functional as F\n",
        "import torch.optim as optim\n",
        "from torchvision import datasets, transforms\n",
        "%matplotlib inline\n",
        "import matplotlib.pyplot as plt\n",
        "import torchvision\n",
        "import numpy as np"
      ],
      "execution_count": 0,
      "outputs": []
    },
    {
      "cell_type": "markdown",
      "metadata": {
        "id": "LaKKZZZUhIae",
        "colab_type": "text"
      },
      "source": [
        "## Train_loader and Test_loader"
      ]
    },
    {
      "cell_type": "code",
      "metadata": {
        "id": "g3EnB-qICwFw",
        "colab_type": "code",
        "outputId": "de07ccd0-552c-47f6-f278-5991a60465f2",
        "colab": {
          "base_uri": "https://localhost:8080/",
          "height": 116,
          "referenced_widgets": [
            "8587fe58f8d744ee9660932c89b1de4b",
            "8b93c5cf814c4e618a48f101eb20b05d",
            "26f1ebe19b824e9385215f1957f1890f",
            "8b46b4c5bcb746209236255704220ba1",
            "b2b402bc5ffb4692a46645fd6f709953",
            "d6f0aa1307ae4ef78be5563234b6be2a",
            "2cd8c1b0ece94eca963f5105f99af647",
            "1259cf5be2da41ef91e2aa06c16d37d2"
          ]
        }
      },
      "source": [
        "transform = transforms.Compose(\n",
        "    [transforms.ToTensor(),\n",
        "     transforms.Normalize((0.5, 0.5, 0.5), (0.5, 0.5, 0.5))])\n",
        "\n",
        "trainset = torchvision.datasets.CIFAR10(root='./data', train=True, download=True, transform=transform)\n",
        "testset = torchvision.datasets.CIFAR10(root='./data', train=False, download=True, transform=transform)\n",
        "\n",
        "SEED = 1\n",
        "\n",
        "# CUDA?\n",
        "cuda = torch.cuda.is_available()\n",
        "print(\"CUDA Available?\", cuda)\n",
        "\n",
        "# For reproducibility\n",
        "torch.manual_seed(SEED)\n",
        "\n",
        "if cuda:\n",
        "    torch.cuda.manual_seed(SEED)\n",
        "\n",
        "dataloader_args = dict(shuffle=True, batch_size=128, num_workers=4, pin_memory=True) if cuda else dict(shuffle=True, batch_size=64)\n",
        "\n",
        "\n",
        "\n",
        "# train dataloader\n",
        "train_loader = torch.utils.data.DataLoader(trainset, **dataloader_args)\n",
        "\n",
        "\n",
        "\n",
        "# test dataloader\n",
        "test_loader = torch.utils.data.DataLoader(testset, **dataloader_args)\n",
        "\n",
        "\n",
        "\n",
        "classes = ('plane', 'car', 'bird', 'cat',\n",
        "           'deer', 'dog', 'frog', 'horse', 'ship', 'truck')"
      ],
      "execution_count": 2,
      "outputs": [
        {
          "output_type": "stream",
          "text": [
            "Downloading https://www.cs.toronto.edu/~kriz/cifar-10-python.tar.gz to ./data/cifar-10-python.tar.gz\n"
          ],
          "name": "stdout"
        },
        {
          "output_type": "display_data",
          "data": {
            "application/vnd.jupyter.widget-view+json": {
              "model_id": "8587fe58f8d744ee9660932c89b1de4b",
              "version_minor": 0,
              "version_major": 2
            },
            "text/plain": [
              "HBox(children=(IntProgress(value=1, bar_style='info', max=1), HTML(value='')))"
            ]
          },
          "metadata": {
            "tags": []
          }
        },
        {
          "output_type": "stream",
          "text": [
            "Extracting ./data/cifar-10-python.tar.gz to ./data\n",
            "Files already downloaded and verified\n",
            "CUDA Available? True\n"
          ],
          "name": "stdout"
        }
      ]
    },
    {
      "cell_type": "code",
      "metadata": {
        "id": "T2hcYx3CC8dC",
        "colab_type": "code",
        "outputId": "abbe169d-6ad1-46cc-fdcc-9043b3d823b8",
        "colab": {
          "base_uri": "https://localhost:8080/",
          "height": 286
        }
      },
      "source": [
        "def imshow(img):\n",
        "    img = img / 2 + 0.5     # unnormalize\n",
        "    npimg = img.numpy()\n",
        "    plt.imshow(np.transpose(npimg, (1, 2, 0)))\n",
        "\n",
        "# get some random training images\n",
        "dataiter = iter(train_loader)\n",
        "images, labels = dataiter.next()\n",
        "\n",
        "# show images\n",
        "imshow(torchvision.utils.make_grid(images))\n",
        "\n",
        "# print labels\n",
        "print(' '.join('%5s' % classes[labels[j]] for j in range(4)))"
      ],
      "execution_count": 3,
      "outputs": [
        {
          "output_type": "stream",
          "text": [
            "plane   dog  deer  deer\n"
          ],
          "name": "stdout"
        },
        {
          "output_type": "display_data",
          "data": {
            "image/png": "[encoded data removed]",
            "text/plain": [
              "<Figure size 432x288 with 1 Axes>"
            ]
          },
          "metadata": {
            "tags": []
          }
        }
      ]
    },
    {
      "cell_type": "markdown",
      "metadata": {
        "id": "QDc-Mq_hhbNh",
        "colab_type": "text"
      },
      "source": [
        "## model "
      ]
    },
    {
      "cell_type": "code",
      "metadata": {
        "id": "jmyHUITEDfU4",
        "colab_type": "code",
        "colab": {}
      },
      "source": [
        "class Net(nn.Module):\n",
        "    def __init__(self):\n",
        "        super(Net, self).__init__()\n",
        "        dropout_value=0.1\n",
        "\n",
        "\n",
        "        self.conv1 = nn.Sequential(nn.Conv2d(in_channels=3, out_channels=32, kernel_size=3, padding=1),\n",
        "                                   nn.ReLU(),\n",
        "                                   nn.BatchNorm2d(32),\n",
        "                                   nn.Dropout(dropout_value))\n",
        "            \n",
        "                                                                                   # Input: 32x32x3 | Output: 32x32x32 | RF: 3x3\n",
        "\n",
        "\n",
        "\n",
        "        self.conv2 = nn.Sequential(nn.Conv2d(in_channels=32, out_channels=32, kernel_size=3, padding=1),\n",
        "                                   nn.ReLU(),\n",
        "                                   nn.BatchNorm2d(32),\n",
        "                                   nn.Dropout(dropout_value))\n",
        "           \n",
        "                                                                                   # Input: 32x32x32 | Output: 32x32x32 | RF: 5x5\n",
        "\n",
        "\n",
        "\n",
        "        self.conv3 = nn.Sequential(nn.Conv2d(in_channels=32, out_channels=64, kernel_size=3, padding=2, dilation=2),\n",
        "                                   nn.ReLU(),\n",
        "                                   nn.BatchNorm2d(64),\n",
        "                                   nn.Dropout(dropout_value))\n",
        "        \n",
        "                                                                                   # Input: 32x32x32 | Output: 32x32x32 | RF: 9x9\n",
        "\n",
        "\n",
        "\n",
        "        self.pool1 = nn.MaxPool2d(2, 2)                                            # Input: 32x32x32 | Output: 16x16x32 | RF: 10x10\n",
        "\n",
        "\n",
        "        self.conv4 = nn.Sequential(nn.Conv2d(in_channels=64, out_channels=64, kernel_size=3, padding=2, dilation=2),\n",
        "                                   nn.ReLU(),\n",
        "                                   nn.BatchNorm2d(64),\n",
        "                                   nn.Dropout(dropout_value) )\n",
        "          \n",
        "           \n",
        "                                                                                   # Input: 16x16x32 | Output: 16x16x64 | RF: 18x18\n",
        "\n",
        "\n",
        "\n",
        "        self.conv5 = nn.Sequential(nn.Conv2d(in_channels=64, out_channels=64, kernel_size=3, padding=2, dilation=2),\n",
        "                                   nn.ReLU(),\n",
        "                                   nn.BatchNorm2d(64),\n",
        "                                   nn.Dropout(dropout_value)) \n",
        "            \n",
        "            \n",
        "                                                                                   # Input: 16x16x64 | Output: 16x16x64 | RF: 26x26\n",
        "\n",
        "\n",
        "        #depthwise convolution\n",
        "        self.conv6 = nn.Sequential(nn.Conv2d(in_channels=64, out_channels=128,kernel_size=3,padding=1,groups=64),\n",
        "                                   nn.Conv2d(in_channels=128,out_channels=128,kernel_size=1),\n",
        "                                   nn.ReLU(),\n",
        "                                   nn.BatchNorm2d(128),\n",
        "                                   nn.Dropout(dropout_value))\n",
        "                                                                                   # Input: 16x16x64 | Output: 16x16x64 | RF: 30x30\n",
        "\n",
        "\n",
        "\n",
        "        self.pool2 = nn.MaxPool2d(2, 2)                                            # Input: 16x16x64 | Output: 8x8x64 | RF: 32x32\n",
        "\n",
        "        #depthwise convolution\n",
        "        self.conv7 = nn.Sequential( nn.Conv2d(in_channels=128, out_channels=128,kernel_size=3,padding=1,groups=128),           \n",
        "                                    nn.Conv2d(in_channels=128,out_channels=128,kernel_size=1),\n",
        "                                    nn.ReLU(),\n",
        "                                    nn.BatchNorm2d(128),\n",
        "                                    nn.Dropout(dropout_value))\n",
        "                                                                                   # Input: 8x8x64 | Output: 8x8x128 | RF: 40x40\n",
        "\n",
        "        # dilation\n",
        "        self.conv8 = nn.Sequential(nn.Conv2d(in_channels=128, out_channels=128, kernel_size=3, padding=2, dilation=2),            \n",
        "                                   nn.ReLU(),\n",
        "                                   nn.BatchNorm2d(128),\n",
        "                                   nn.Dropout(dropout_value))\n",
        "                                                                                  # Input: 8x8x128 | Output: 8x8x128 | RF: 56x56\n",
        "\n",
        "\n",
        "        self.pool3 = nn.MaxPool2d(2, 2)                                           # Input: 8x8x128 | Output: 4x4x128 | RF: 60x60\n",
        "\n",
        "\n",
        "        self.gap =nn.AvgPool2d(kernel_size=4)\n",
        "                                                                                  # Input: 4x4x128 | Output: 1x1x128 | RF: 84x84\n",
        "\n",
        "\n",
        "        self.fc = nn.Linear(128, 10)                                              # Input: 1x1x128 | Output: 1x1x10 | RF: 84x84\n",
        "\n",
        "\n",
        "\n",
        "    def forward(self, x):\n",
        "        x = self.conv1(x)\n",
        "        x = self.conv2(x)\n",
        "        x = self.conv3(x)\n",
        "        x = self.pool1(x)\n",
        "        x = self.conv4(x)\n",
        "        x = self.conv5(x)\n",
        "        x = self.conv6(x)\n",
        "        x = self.pool2(x)\n",
        "        x = self.conv7(x)\n",
        "        x = self.conv8(x)\n",
        "        x = self.pool3(x)\n",
        "        x = self.gap(x)\n",
        "        x = x.view(-1, 128)\n",
        "        x = self.fc(x)\n",
        "        return x"
      ],
      "execution_count": 0,
      "outputs": []
    },
    {
      "cell_type": "code",
      "metadata": {
        "id": "ADWSE6NXEg63",
        "colab_type": "code",
        "outputId": "7eb8093a-0121-44e6-81a0-df258a6c5ad4",
        "colab": {
          "base_uri": "https://localhost:8080/",
          "height": 907
        }
      },
      "source": [
        "!pip install torchsummary\n",
        "from torchsummary import summary\n",
        "use_cuda = torch.cuda.is_available()\n",
        "device = torch.device(\"cuda\" if use_cuda else \"cpu\")\n",
        "model = Net().to(device)\n",
        "summary(model, input_size=(3, 32, 32))"
      ],
      "execution_count": 5,
      "outputs": [
        {
          "output_type": "stream",
          "text": [
            "Requirement already satisfied: torchsummary in /usr/local/lib/python3.6/dist-packages (1.5.1)\n",
            "----------------------------------------------------------------\n",
            "        Layer (type)               Output Shape         Param #\n",
            "================================================================\n",
            "            Conv2d-1           [-1, 32, 32, 32]             896\n",
            "              ReLU-2           [-1, 32, 32, 32]               0\n",
            "       BatchNorm2d-3           [-1, 32, 32, 32]              64\n",
            "           Dropout-4           [-1, 32, 32, 32]               0\n",
            "            Conv2d-5           [-1, 32, 32, 32]           9,248\n",
            "              ReLU-6           [-1, 32, 32, 32]               0\n",
            "       BatchNorm2d-7           [-1, 32, 32, 32]              64\n",
            "           Dropout-8           [-1, 32, 32, 32]               0\n",
            "            Conv2d-9           [-1, 64, 32, 32]          18,496\n",
            "             ReLU-10           [-1, 64, 32, 32]               0\n",
            "      BatchNorm2d-11           [-1, 64, 32, 32]             128\n",
            "          Dropout-12           [-1, 64, 32, 32]               0\n",
            "        MaxPool2d-13           [-1, 64, 16, 16]               0\n",
            "           Conv2d-14           [-1, 64, 16, 16]          36,928\n",
            "             ReLU-15           [-1, 64, 16, 16]               0\n",
            "      BatchNorm2d-16           [-1, 64, 16, 16]             128\n",
            "          Dropout-17           [-1, 64, 16, 16]               0\n",
            "           Conv2d-18           [-1, 64, 16, 16]          36,928\n",
            "             ReLU-19           [-1, 64, 16, 16]               0\n",
            "      BatchNorm2d-20           [-1, 64, 16, 16]             128\n",
            "          Dropout-21           [-1, 64, 16, 16]               0\n",
            "           Conv2d-22          [-1, 128, 16, 16]           1,280\n",
            "           Conv2d-23          [-1, 128, 16, 16]          16,512\n",
            "             ReLU-24          [-1, 128, 16, 16]               0\n",
            "      BatchNorm2d-25          [-1, 128, 16, 16]             256\n",
            "          Dropout-26          [-1, 128, 16, 16]               0\n",
            "        MaxPool2d-27            [-1, 128, 8, 8]               0\n",
            "           Conv2d-28            [-1, 128, 8, 8]           1,280\n",
            "           Conv2d-29            [-1, 128, 8, 8]          16,512\n",
            "             ReLU-30            [-1, 128, 8, 8]               0\n",
            "      BatchNorm2d-31            [-1, 128, 8, 8]             256\n",
            "          Dropout-32            [-1, 128, 8, 8]               0\n",
            "           Conv2d-33            [-1, 128, 8, 8]         147,584\n",
            "             ReLU-34            [-1, 128, 8, 8]               0\n",
            "      BatchNorm2d-35            [-1, 128, 8, 8]             256\n",
            "          Dropout-36            [-1, 128, 8, 8]               0\n",
            "        MaxPool2d-37            [-1, 128, 4, 4]               0\n",
            "        AvgPool2d-38            [-1, 128, 1, 1]               0\n",
            "           Linear-39                   [-1, 10]           1,290\n",
            "================================================================\n",
            "Total params: 288,234\n",
            "Trainable params: 288,234\n",
            "Non-trainable params: 0\n",
            "----------------------------------------------------------------\n",
            "Input size (MB): 0.01\n",
            "Forward/backward pass size (MB): 7.02\n",
            "Params size (MB): 1.10\n",
            "Estimated Total Size (MB): 8.13\n",
            "----------------------------------------------------------------\n"
          ],
          "name": "stdout"
        }
      ]
    },
    {
      "cell_type": "code",
      "metadata": {
        "id": "9meg1pKgEpzt",
        "colab_type": "code",
        "colab": {}
      },
      "source": [
        "from tqdm import tqdm\n",
        "train_losses = []\n",
        "test_losses = []\n",
        "train_acc = []\n",
        "test_acc = []\n",
        "\n",
        "def train(model, device, train_loader, optimizer, loss_func, epoch, l1=False):\n",
        "  model.train()\n",
        "  pbar = tqdm(train_loader)\n",
        "  correct = 0\n",
        "  processed = 0\n",
        "  for batch_idx, (data, target) in enumerate(pbar):\n",
        "    # get samples\n",
        "    data, target = data.to(device), target.to(device)\n",
        "\n",
        "    # Init\n",
        "    optimizer.zero_grad()\n",
        "    # In PyTorch, we need to set the gradients to zero before starting to do backpropragation because PyTorch accumulates the gradients on subsequent backward passes. \n",
        "    # Because of this, when you start your training loop, ideally you should zero out the gradients so that you do the parameter update correctly.\n",
        "\n",
        "    # Predict\n",
        "    y_pred = model(data)\n",
        "\n",
        "    # Calculate loss\n",
        "    loss = loss_func(y_pred, target)\n",
        "\n",
        "    # L1 regularization\n",
        "    if l1 == True:\n",
        "      reg_loss = 0\n",
        "      for param in model.parameters():\n",
        "        reg_loss += torch.sum(abs(param))\n",
        "      factor = 0.000002\n",
        "      loss += factor * reg_loss\n",
        "\n",
        "    train_losses.append(loss)\n",
        "\n",
        "    # Backpropagation\n",
        "    loss.backward()\n",
        "    optimizer.step()\n",
        "\n",
        "    # Update pbar-tqdm\n",
        "    \n",
        "    pred = y_pred.argmax(dim=1, keepdim=True)  # get the index of the max log-probability\n",
        "    correct += pred.eq(target.view_as(pred)).sum().item()\n",
        "    processed += len(data)\n",
        "\n",
        "    pbar.set_description(desc= f'Loss={loss.item()} Batch_id={batch_idx} Accuracy={100*correct/processed:0.2f}')\n",
        "    train_acc.append(100*correct/processed)\n",
        "\n",
        "def test(model, device, test_loader, loss_func):\n",
        "    model.eval()\n",
        "    test_loss = 0\n",
        "    correct = 0\n",
        "    with torch.no_grad():\n",
        "        for data, target in test_loader:\n",
        "            data, target = data.to(device), target.to(device)\n",
        "            output = model(data)\n",
        "            test_loss += loss_func(output, target).item()  # sum up batch loss\n",
        "            pred = output.argmax(dim=1, keepdim=True)  # get the index of the max log-probability\n",
        "            correct += pred.eq(target.view_as(pred)).sum().item()\n",
        "\n",
        "    test_loss /= len(test_loader.dataset)\n",
        "    test_losses.append(test_loss)\n",
        "\n",
        "    print('\\nTest set: Average loss: {:.4f}, Accuracy: {}/{} ({:.2f}%)\\n'.format(\n",
        "        test_loss, correct, len(test_loader.dataset),\n",
        "        100. * correct / len(test_loader.dataset)))\n",
        "    \n",
        "    test_acc.append(100. * correct / len(test_loader.dataset))"
      ],
      "execution_count": 0,
      "outputs": []
    },
    {
      "cell_type": "markdown",
      "metadata": {
        "id": "QS8URnrFh4hR",
        "colab_type": "text"
      },
      "source": [
        "## Define a Loss function and optimizer\n",
        "## ^^^^^^^^^^^^^^^^^^^^^^^^^^^^^^^^^^^^^^^\n",
        "## Let's use a Classification Cross-Entropy loss and SGD with momentum.\n",
        "\n"
      ]
    },
    {
      "cell_type": "code",
      "metadata": {
        "id": "KVlMCI-mJ_d8",
        "colab_type": "code",
        "outputId": "d8c5a4d4-1d5b-4702-e838-dc55d0512a82",
        "colab": {
          "base_uri": "https://localhost:8080/",
          "height": 857
        }
      },
      "source": [
        "\n",
        "model =  Net().to(device)\n",
        "optimizer = optim.SGD(model.parameters(), lr=0.05, momentum=0.9, weight_decay=0)\n",
        "# scheduler = StepLR(optimizer, step_size=10, gamma=0.5)\n",
        "loss_func=nn.CrossEntropyLoss()\n",
        " \n",
        "for epoch in range(10):\n",
        "    print(\"Epoch:\", epoch)\n",
        "    train(model, device, train_loader, optimizer, loss_func, epoch, l1=False)\n",
        "    # scheduler.step()\n",
        "    test(model, device, test_loader, nn.CrossEntropyLoss(reduction='sum'))"
      ],
      "execution_count": 7,
      "outputs": [
        {
          "output_type": "stream",
          "text": [
            "\r  0%|          | 0/391 [00:00<?, ?it/s]"
          ],
          "name": "stderr"
        },
        {
          "output_type": "stream",
          "text": [
            "Epoch: 0\n"
          ],
          "name": "stdout"
        },
        {
          "output_type": "stream",
          "text": [
            "Loss=0.9217429161071777 Batch_id=390 Accuracy=49.17: 100%|██████████| 391/391 [00:15<00:00, 25.97it/s]\n",
            "  0%|          | 0/391 [00:00<?, ?it/s]"
          ],
          "name": "stderr"
        },
        {
          "output_type": "stream",
          "text": [
            "\n",
            "Test set: Average loss: 1.2509, Accuracy: 5675/10000 (56.75%)\n",
            "\n",
            "Epoch: 1\n"
          ],
          "name": "stdout"
        },
        {
          "output_type": "stream",
          "text": [
            "Loss=0.7765200138092041 Batch_id=390 Accuracy=68.45: 100%|██████████| 391/391 [00:15<00:00, 25.86it/s]\n",
            "  0%|          | 0/391 [00:00<?, ?it/s]"
          ],
          "name": "stderr"
        },
        {
          "output_type": "stream",
          "text": [
            "\n",
            "Test set: Average loss: 0.8410, Accuracy: 7035/10000 (70.35%)\n",
            "\n",
            "Epoch: 2\n"
          ],
          "name": "stdout"
        },
        {
          "output_type": "stream",
          "text": [
            "Loss=0.701512336730957 Batch_id=390 Accuracy=75.48: 100%|██████████| 391/391 [00:15<00:00, 25.70it/s]\n",
            "  0%|          | 0/391 [00:00<?, ?it/s]"
          ],
          "name": "stderr"
        },
        {
          "output_type": "stream",
          "text": [
            "\n",
            "Test set: Average loss: 0.8243, Accuracy: 7184/10000 (71.84%)\n",
            "\n",
            "Epoch: 3\n"
          ],
          "name": "stdout"
        },
        {
          "output_type": "stream",
          "text": [
            "Loss=0.6405920386314392 Batch_id=390 Accuracy=79.17: 100%|██████████| 391/391 [00:15<00:00, 25.78it/s]\n",
            "  0%|          | 0/391 [00:00<?, ?it/s]"
          ],
          "name": "stderr"
        },
        {
          "output_type": "stream",
          "text": [
            "\n",
            "Test set: Average loss: 0.6557, Accuracy: 7703/10000 (77.03%)\n",
            "\n",
            "Epoch: 4\n"
          ],
          "name": "stdout"
        },
        {
          "output_type": "stream",
          "text": [
            "Loss=0.5724517703056335 Batch_id=390 Accuracy=81.55: 100%|██████████| 391/391 [00:15<00:00, 25.97it/s]\n",
            "  0%|          | 0/391 [00:00<?, ?it/s]"
          ],
          "name": "stderr"
        },
        {
          "output_type": "stream",
          "text": [
            "\n",
            "Test set: Average loss: 0.5939, Accuracy: 7974/10000 (79.74%)\n",
            "\n",
            "Epoch: 5\n"
          ],
          "name": "stdout"
        },
        {
          "output_type": "stream",
          "text": [
            "Loss=0.28072571754455566 Batch_id=390 Accuracy=83.52: 100%|██████████| 391/391 [00:15<00:00, 25.99it/s]\n",
            "  0%|          | 0/391 [00:00<?, ?it/s]"
          ],
          "name": "stderr"
        },
        {
          "output_type": "stream",
          "text": [
            "\n",
            "Test set: Average loss: 0.5620, Accuracy: 8054/10000 (80.54%)\n",
            "\n",
            "Epoch: 6\n"
          ],
          "name": "stdout"
        },
        {
          "output_type": "stream",
          "text": [
            "Loss=0.510184645652771 Batch_id=390 Accuracy=84.65: 100%|██████████| 391/391 [00:15<00:00, 25.97it/s]\n",
            "  0%|          | 0/391 [00:00<?, ?it/s]"
          ],
          "name": "stderr"
        },
        {
          "output_type": "stream",
          "text": [
            "\n",
            "Test set: Average loss: 0.5369, Accuracy: 8142/10000 (81.42%)\n",
            "\n",
            "Epoch: 7\n"
          ],
          "name": "stdout"
        },
        {
          "output_type": "stream",
          "text": [
            "Loss=0.3455773591995239 Batch_id=390 Accuracy=86.23: 100%|██████████| 391/391 [00:15<00:00, 26.00it/s]\n",
            "  0%|          | 0/391 [00:00<?, ?it/s]"
          ],
          "name": "stderr"
        },
        {
          "output_type": "stream",
          "text": [
            "\n",
            "Test set: Average loss: 0.5164, Accuracy: 8240/10000 (82.40%)\n",
            "\n",
            "Epoch: 8\n"
          ],
          "name": "stdout"
        },
        {
          "output_type": "stream",
          "text": [
            "Loss=0.37118658423423767 Batch_id=390 Accuracy=87.37: 100%|██████████| 391/391 [00:15<00:00, 25.64it/s]\n",
            "  0%|          | 0/391 [00:00<?, ?it/s]"
          ],
          "name": "stderr"
        },
        {
          "output_type": "stream",
          "text": [
            "\n",
            "Test set: Average loss: 0.5578, Accuracy: 8092/10000 (80.92%)\n",
            "\n",
            "Epoch: 9\n"
          ],
          "name": "stdout"
        },
        {
          "output_type": "stream",
          "text": [
            "Loss=0.4876798689365387 Batch_id=390 Accuracy=88.35: 100%|██████████| 391/391 [00:15<00:00, 25.61it/s]\n"
          ],
          "name": "stderr"
        },
        {
          "output_type": "stream",
          "text": [
            "\n",
            "Test set: Average loss: 0.5539, Accuracy: 8156/10000 (81.56%)\n",
            "\n"
          ],
          "name": "stdout"
        }
      ]
    },
    {
      "cell_type": "code",
      "metadata": {
        "id": "AMVf0RAbKrXT",
        "colab_type": "code",
        "colab": {
          "base_uri": "https://localhost:8080/",
          "height": 624
        },
        "outputId": "2665b212-6207-4dfc-d994-5568b69fd23c"
      },
      "source": [
        "\n",
        "fig, axs = plt.subplots(2,2,figsize=(15,10))\n",
        "axs[0, 0].plot(train_losses)\n",
        "axs[0, 0].set_title(\"Training Loss\")\n",
        "axs[1, 0].plot(train_acc)\n",
        "axs[1, 0].set_title(\"Training Accuracy\")\n",
        "axs[0, 1].plot(test_losses)\n",
        "axs[0, 1].set_title(\"Test Loss\")\n",
        "axs[1, 1].plot(test_acc)\n",
        "axs[1, 1].set_title(\"Test Accuracy\")"
      ],
      "execution_count": 12,
      "outputs": [
        {
          "output_type": "execute_result",
          "data": {
            "text/plain": [
              "Text(0.5, 1.0, 'Test Accuracy')"
            ]
          },
          "metadata": {
            "tags": []
          },
          "execution_count": 12
        },
        {
          "output_type": "display_data",
          "data": {
            "image/png": "[encoded data removed]",
            "text/plain": [
              "<Figure size 1080x720 with 4 Axes>"
            ]
          },
          "metadata": {
            "tags": []
          }
        }
      ]
    },
    {
      "cell_type": "code",
      "metadata": {
        "id": "QFkVzS-srrBe",
        "colab_type": "code",
        "colab": {}
      },
      "source": [
        ""
      ],
      "execution_count": 0,
      "outputs": []
    }
  ]
}