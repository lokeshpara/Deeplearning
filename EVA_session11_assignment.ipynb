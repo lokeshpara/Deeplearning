{
  "nbformat": 4,
  "nbformat_minor": 0,
  "metadata": {
    "colab": {
      "name": "EVA_session11_assignment.ipynb",
      "provenance": [],
      "collapsed_sections": [],
      "authorship_tag": "ABX9TyMHpkwcuMOaVTJwOpnV7M68",
      "include_colab_link": true
    },
    "kernelspec": {
      "name": "python3",
      "display_name": "Python 3"
    },
    "accelerator": "GPU"
  },
  "cells": [
    {
      "cell_type": "markdown",
      "metadata": {
        "id": "view-in-github",
        "colab_type": "text"
      },
      "source": [
        "<a href=\"https://colab.research.google.com/github/lokeshpara/Deeplearning/blob/S11/EVA_session11_assignment.ipynb\" target=\"_parent\"><img src=\"https://colab.research.google.com/assets/colab-badge.svg\" alt=\"Open In Colab\"/></a>"
      ]
    },
    {
      "cell_type": "code",
      "metadata": {
        "id": "6qd36JNjI0OF",
        "colab_type": "code",
        "outputId": "87c26c16-e273-49f5-fed6-f85de0408368",
        "colab": {
          "base_uri": "https://localhost:8080/",
          "height": 139
        }
      },
      "source": [
        "from google.colab import drive\n",
        "drive.mount('/content/gdrive')\n",
        "%cd /content/gdrive/My\\ Drive/Colab\\ Notebooks/EVA/S11/"
      ],
      "execution_count": 1,
      "outputs": [
        {
          "output_type": "stream",
          "text": [
            "Go to this URL in a browser: https://accounts.google.com/o/oauth2/auth?client_id=947318989803-6bn6qk8qdgf4n4g3pfee6491hc0brc4i.apps.googleusercontent.com&redirect_uri=urn%3aietf%3awg%3aoauth%3a2.0%3aoob&response_type=code&scope=email%20https%3a%2f%2fwww.googleapis.com%2fauth%2fdocs.test%20https%3a%2f%2fwww.googleapis.com%2fauth%2fdrive%20https%3a%2f%2fwww.googleapis.com%2fauth%2fdrive.photos.readonly%20https%3a%2f%2fwww.googleapis.com%2fauth%2fpeopleapi.readonly\n",
            "\n",
            "Enter your authorization code:\n",
            "··········\n",
            "Mounted at /content/gdrive\n",
            "/content/gdrive/My Drive/Colab Notebooks/EVA/S11\n"
          ],
          "name": "stdout"
        }
      ]
    },
    {
      "cell_type": "markdown",
      "metadata": {
        "id": "UAjaZWBjQCEi",
        "colab_type": "text"
      },
      "source": [
        "#Importing modules\n"
      ]
    },
    {
      "cell_type": "code",
      "metadata": {
        "id": "56_Q8VSTJNs8",
        "colab_type": "code",
        "colab": {}
      },
      "source": [
        "from __future__ import print_function\n",
        "import torch\n",
        "import torch.nn as nn\n",
        "import torch.nn.functional as F\n",
        "import torch.optim as optim\n",
        "from torchvision import datasets, transforms\n",
        "%matplotlib inline\n",
        "import matplotlib.pyplot as plt\n",
        "import torchvision\n",
        "from tqdm import tqdm\n",
        "import numpy as np\n",
        "import torchvision.transforms as transforms\n",
        "import albumentations\n",
        "from albumentations.pytorch import ToTensor\n",
        "import random\n",
        "from math import floor\n",
        "from GradCAM.gradcam_visualize import GradCAMView\n",
        "import train11\n",
        "import test11\n",
        "#from lr_finder import LRFinder\n",
        "#from torch.optim.lr_scheduler import ReduceLROnPlateau\n",
        "#from lr_range_test import LR_Range_Test\n",
        "from torch.optim.lr_scheduler import OneCycleLR"
      ],
      "execution_count": 0,
      "outputs": []
    },
    {
      "cell_type": "markdown",
      "metadata": {
        "id": "_iCzC77YuBlX",
        "colab_type": "text"
      },
      "source": [
        "#Dataloader\n"
      ]
    },
    {
      "cell_type": "code",
      "metadata": {
        "id": "MxcjcZsJqww0",
        "colab_type": "code",
        "colab": {
          "base_uri": "https://localhost:8080/",
          "height": 85
        },
        "outputId": "53167dc6-9cf8-4b8c-8e50-6d7d57372b33"
      },
      "source": [
        "import dataloader11\n",
        "classes = ('plane', 'car', 'bird', 'cat',\n",
        "           'deer', 'dog', 'frog', 'horse', 'ship', 'truck')"
      ],
      "execution_count": 3,
      "outputs": [
        {
          "output_type": "stream",
          "text": [
            "Files already downloaded and verified\n",
            "Files already downloaded and verified\n",
            "Files already downloaded and verified\n",
            "CUDA Available? True\n"
          ],
          "name": "stdout"
        }
      ]
    },
    {
      "cell_type": "markdown",
      "metadata": {
        "id": "YP26lHmCQeKy",
        "colab_type": "text"
      },
      "source": [
        "#Visualize images"
      ]
    },
    {
      "cell_type": "code",
      "metadata": {
        "id": "8f_n9ZsgKMDx",
        "colab_type": "code",
        "outputId": "b5cd8563-cfdd-4a32-fb08-fe1cb877811c",
        "colab": {
          "base_uri": "https://localhost:8080/",
          "height": 172
        }
      },
      "source": [
        "def imshow(img):\n",
        "    img = img / 2 + 0.5     # unnormalize\n",
        "    npimg = img.numpy()\n",
        "    plt.imshow(np.transpose(npimg, (1, 2, 0)))\n",
        "\n",
        "# get some random training images\n",
        "dataiter = iter(dataloader11.train_loader_Alb)\n",
        "images, labels = dataiter.next()\n",
        "\n",
        "# show images\n",
        "imshow(torchvision.utils.make_grid(images))\n",
        "\n",
        "# print labels\n",
        "print(' '.join('%5s' % classes[labels[j]] for j in range(4)))"
      ],
      "execution_count": 4,
      "outputs": [
        {
          "output_type": "stream",
          "text": [
            "Clipping input data to the valid range for imshow with RGB data ([0..1] for floats or [0..255] for integers).\n"
          ],
          "name": "stderr"
        },
        {
          "output_type": "stream",
          "text": [
            "plane   dog  deer  deer\n"
          ],
          "name": "stdout"
        },
        {
          "output_type": "display_data",
          "data": {
            "image/png": "[encoded data removed]",
            "text/plain": [
              "<Figure size 432x288 with 1 Axes>"
            ]
          },
          "metadata": {
            "tags": [],
            "needs_background": "light"
          }
        }
      ]
    },
    {
      "cell_type": "markdown",
      "metadata": {
        "id": "cCtaFUxfQzp2",
        "colab_type": "text"
      },
      "source": [
        "#model Total parameters"
      ]
    },
    {
      "cell_type": "code",
      "metadata": {
        "id": "O-lt9fIXLQtF",
        "colab_type": "code",
        "outputId": "db87f6b6-7bf6-4180-de38-fe6643720c4b",
        "colab": {
          "base_uri": "https://localhost:8080/",
          "height": 748
        }
      },
      "source": [
        "import model11\n",
        "!pip install torchsummary\n",
        "from torchsummary import summary\n",
        "use_cuda = torch.cuda.is_available()\n",
        "device = torch.device(\"cuda\" if use_cuda else \"cpu\")\n",
        "model = model11.Net().to(device)\n",
        "summary(model, input_size=(3, 32, 32))"
      ],
      "execution_count": 5,
      "outputs": [
        {
          "output_type": "stream",
          "text": [
            "Requirement already satisfied: torchsummary in /usr/local/lib/python3.6/dist-packages (1.5.1)\n",
            "----------------------------------------------------------------\n",
            "        Layer (type)               Output Shape         Param #\n",
            "================================================================\n",
            "            Conv2d-1           [-1, 64, 32, 32]           1,728\n",
            "       BatchNorm2d-2           [-1, 64, 32, 32]             128\n",
            "              ReLU-3           [-1, 64, 32, 32]               0\n",
            "            Conv2d-4          [-1, 128, 32, 32]          73,728\n",
            "         MaxPool2d-5          [-1, 128, 16, 16]               0\n",
            "       BatchNorm2d-6          [-1, 128, 16, 16]             256\n",
            "              ReLU-7          [-1, 128, 16, 16]               0\n",
            "            Conv2d-8          [-1, 128, 16, 16]         147,456\n",
            "       BatchNorm2d-9          [-1, 128, 16, 16]             256\n",
            "             ReLU-10          [-1, 128, 16, 16]               0\n",
            "           Conv2d-11          [-1, 128, 16, 16]         147,456\n",
            "      BatchNorm2d-12          [-1, 128, 16, 16]             256\n",
            "             ReLU-13          [-1, 128, 16, 16]               0\n",
            "           Conv2d-14          [-1, 256, 16, 16]         294,912\n",
            "        MaxPool2d-15            [-1, 256, 8, 8]               0\n",
            "      BatchNorm2d-16            [-1, 256, 8, 8]             512\n",
            "             ReLU-17            [-1, 256, 8, 8]               0\n",
            "           Conv2d-18            [-1, 512, 8, 8]       1,179,648\n",
            "        MaxPool2d-19            [-1, 512, 4, 4]               0\n",
            "      BatchNorm2d-20            [-1, 512, 4, 4]           1,024\n",
            "             ReLU-21            [-1, 512, 4, 4]               0\n",
            "           Conv2d-22            [-1, 512, 4, 4]       2,359,296\n",
            "      BatchNorm2d-23            [-1, 512, 4, 4]           1,024\n",
            "             ReLU-24            [-1, 512, 4, 4]               0\n",
            "           Conv2d-25            [-1, 512, 4, 4]       2,359,296\n",
            "      BatchNorm2d-26            [-1, 512, 4, 4]           1,024\n",
            "             ReLU-27            [-1, 512, 4, 4]               0\n",
            "        MaxPool2d-28            [-1, 512, 1, 1]               0\n",
            "           Linear-29                   [-1, 10]           5,120\n",
            "================================================================\n",
            "Total params: 6,573,120\n",
            "Trainable params: 6,573,120\n",
            "Non-trainable params: 0\n",
            "----------------------------------------------------------------\n",
            "Input size (MB): 0.01\n",
            "Forward/backward pass size (MB): 6.44\n",
            "Params size (MB): 25.07\n",
            "Estimated Total Size (MB): 31.53\n",
            "----------------------------------------------------------------\n"
          ],
          "name": "stdout"
        }
      ]
    },
    {
      "cell_type": "markdown",
      "metadata": {
        "id": "simmXJVTQ9GD",
        "colab_type": "text"
      },
      "source": [
        "#LR_Range_Test\n"
      ]
    },
    {
      "cell_type": "code",
      "metadata": {
        "id": "6boiNSuebOTO",
        "colab_type": "code",
        "outputId": "1d479fa9-cc51-4e73-c062-346bca73da8a",
        "colab": {
          "base_uri": "https://localhost:8080/",
          "height": 187
        }
      },
      "source": [
        "from lr_range_test import LR_Range_Test\n",
        "loss_func = nn.CrossEntropyLoss()\n",
        "LR_Range_Test(0.01, 0.0001 ,device, 10 ,model,loss_func,dataloader11.train_loader_Albumentation )"
      ],
      "execution_count": 6,
      "outputs": [
        {
          "output_type": "stream",
          "text": [
            "epoch = 1 Lr = 0.0001  Loss=1.964650273323059 Batch_id=97 Accuracy=21.20: 100%|██████████| 98/98 [00:22<00:00,  4.35it/s]\n",
            "epoch = 2 Lr = 0.00109  Loss=1.5695947408676147 Batch_id=97 Accuracy=36.26: 100%|██████████| 98/98 [00:22<00:00,  4.32it/s]\n",
            "epoch = 3 Lr = 0.0020800000000000003  Loss=1.338624358177185 Batch_id=97 Accuracy=40.11: 100%|██████████| 98/98 [00:22<00:00,  4.31it/s]\n",
            "epoch = 4 Lr = 0.0030700000000000002  Loss=1.2938122749328613 Batch_id=97 Accuracy=40.94: 100%|██████████| 98/98 [00:22<00:00,  4.32it/s]\n",
            "epoch = 5 Lr = 0.00406  Loss=1.3720594644546509 Batch_id=97 Accuracy=41.04: 100%|██████████| 98/98 [00:22<00:00,  4.31it/s]\n",
            "epoch = 6 Lr = 0.005050000000000001  Loss=1.2757200002670288 Batch_id=97 Accuracy=40.68: 100%|██████████| 98/98 [00:22<00:00,  4.27it/s]\n",
            "epoch = 7 Lr = 0.00604  Loss=1.3592596054077148 Batch_id=97 Accuracy=35.17: 100%|██████████| 98/98 [00:22<00:00,  4.29it/s]\n",
            "epoch = 8 Lr = 0.00703  Loss=1.686309576034546 Batch_id=97 Accuracy=24.54: 100%|██████████| 98/98 [00:22<00:00,  4.27it/s]\n",
            "epoch = 9 Lr = 0.00802  Loss=1.6755434274673462 Batch_id=97 Accuracy=26.54: 100%|██████████| 98/98 [00:22<00:00,  4.30it/s]\n",
            "epoch = 10 Lr = 0.009009999999999999  Loss=1.8012244701385498 Batch_id=97 Accuracy=21.97: 100%|██████████| 98/98 [00:22<00:00,  4.29it/s]\n"
          ],
          "name": "stderr"
        }
      ]
    },
    {
      "cell_type": "markdown",
      "metadata": {
        "id": "Uf7S24AeswGZ",
        "colab_type": "text"
      },
      "source": [
        "#"
      ]
    },
    {
      "cell_type": "markdown",
      "metadata": {
        "id": "jJisklrJtltO",
        "colab_type": "text"
      },
      "source": [
        "#LR v/s Accuracy plot\n"
      ]
    },
    {
      "cell_type": "code",
      "metadata": {
        "id": "1F2Zrkc-kI49",
        "colab_type": "code",
        "outputId": "b5304c5d-7f9c-4c9f-e0c9-921b65cc32cd",
        "colab": {
          "base_uri": "https://localhost:8080/",
          "height": 295
        }
      },
      "source": [
        "import lr_range_test\n",
        "plt.plot( lr_range_test.Lr , lr_range_test.Lr_acc)\n",
        "plt.ylabel('train Accuracy')\n",
        "plt.xlabel(\"LR\")\n",
        "plt.title(\"Lr v/s accuracy\")\n",
        "plt.show()"
      ],
      "execution_count": 10,
      "outputs": [
        {
          "output_type": "display_data",
          "data": {
            "image/png": "[encoded data removed]",
            "text/plain": [
              "<Figure size 432x288 with 1 Axes>"
            ]
          },
          "metadata": {
            "tags": [],
            "needs_background": "light"
          }
        }
      ]
    },
    {
      "cell_type": "code",
      "metadata": {
        "id": "yCcPIywMZBGl",
        "colab_type": "code",
        "outputId": "e96afad8-8b46-4dc7-cdda-c6f6ae717792",
        "colab": {
          "base_uri": "https://localhost:8080/",
          "height": 1000
        }
      },
      "source": [
        "model =  model11.Net().to(device)\n",
        "optimizer = optim.SGD(model.parameters(), lr=0.01 , momentum=0.9, weight_decay=0.005) \n",
        "#scheduler = ReduceLROnPlateau(optimizer, patience = 3,min_lr=1e-4)\n",
        "scheduler = OneCycleLR(optimizer,max_lr = 0.04006 ,total_steps=None,epochs=24,steps_per_epoch=1,pct_start=0.208,anneal_strategy=\"linear\",cycle_momentum=False,base_momentum=0.85,max_momentum=0.95,div_factor=10.0,final_div_factor=1)\n",
        "loss_func=nn.CrossEntropyLoss()\n",
        "LR = []\n",
        "for epoch in range(24):\n",
        "   \n",
        "    lr = optimizer.param_groups[0]['lr']\n",
        "    LR.append(lr)\n",
        "    print(\"Epoch:\", epoch ,\" LR: \", lr)\n",
        "    train11.train(model, device, dataloader11.train_loader_Albumentation, optimizer, loss_func, epoch)\n",
        "    # scheduler.step()\n",
        "    test11.test(model, device, dataloader11.test_loader, loss_func, last_epoch=True)\n",
        "   # scheduler.step(test10.test_losses[-1])\n",
        "    scheduler.step()"
      ],
      "execution_count": 0,
      "outputs": [
        {
          "output_type": "stream",
          "text": [
            "\r  0%|          | 0/98 [00:00<?, ?it/s]"
          ],
          "name": "stderr"
        },
        {
          "output_type": "stream",
          "text": [
            "Epoch: 0  LR:  0.004006\n"
          ],
          "name": "stdout"
        },
        {
          "output_type": "stream",
          "text": [
            "Epoch= 0 Loss=1.2516883611679077 Batch_id=97 Accuracy=40.78: 100%|██████████| 98/98 [00:23<00:00,  4.25it/s]\n",
            "  0%|          | 0/98 [00:00<?, ?it/s]"
          ],
          "name": "stderr"
        },
        {
          "output_type": "stream",
          "text": [
            "\n",
            "Test set: Average loss: 0.0026, Accuracy: 5210/10000 (52.10%)\n",
            "\n",
            "Epoch: 1  LR:  0.013037563126252504\n"
          ],
          "name": "stdout"
        },
        {
          "output_type": "stream",
          "text": [
            "Epoch= 1 Loss=1.0955380201339722 Batch_id=97 Accuracy=49.13: 100%|██████████| 98/98 [00:23<00:00,  4.21it/s]\n",
            "  0%|          | 0/98 [00:00<?, ?it/s]"
          ],
          "name": "stderr"
        },
        {
          "output_type": "stream",
          "text": [
            "\n",
            "Test set: Average loss: 0.0022, Accuracy: 6177/10000 (61.77%)\n",
            "\n",
            "Epoch: 2  LR:  0.022069126252505004\n"
          ],
          "name": "stdout"
        },
        {
          "output_type": "stream",
          "text": [
            "Epoch= 2 Loss=1.0758836269378662 Batch_id=97 Accuracy=61.50: 100%|██████████| 98/98 [00:23<00:00,  4.26it/s]\n",
            "  0%|          | 0/98 [00:00<?, ?it/s]"
          ],
          "name": "stderr"
        },
        {
          "output_type": "stream",
          "text": [
            "\n",
            "Test set: Average loss: 0.0018, Accuracy: 6974/10000 (69.74%)\n",
            "\n",
            "Epoch: 3  LR:  0.03110068937875751\n"
          ],
          "name": "stdout"
        },
        {
          "output_type": "stream",
          "text": [
            "Epoch= 3 Loss=0.8458300232887268 Batch_id=97 Accuracy=65.65: 100%|██████████| 98/98 [00:23<00:00,  4.25it/s]\n",
            "  0%|          | 0/98 [00:00<?, ?it/s]"
          ],
          "name": "stderr"
        },
        {
          "output_type": "stream",
          "text": [
            "\n",
            "Test set: Average loss: 0.0024, Accuracy: 6371/10000 (63.71%)\n",
            "\n",
            "Epoch: 4  LR:  0.04004482575757576\n"
          ],
          "name": "stdout"
        },
        {
          "output_type": "stream",
          "text": [
            "Epoch= 4 Loss=0.8613706231117249 Batch_id=97 Accuracy=71.24: 100%|██████████| 98/98 [00:22<00:00,  4.27it/s]\n",
            "  0%|          | 0/98 [00:00<?, ?it/s]"
          ],
          "name": "stderr"
        },
        {
          "output_type": "stream",
          "text": [
            "\n",
            "Test set: Average loss: 0.0016, Accuracy: 7249/10000 (72.49%)\n",
            "\n",
            "Epoch: 5  LR:  0.038148045454545455\n"
          ],
          "name": "stdout"
        },
        {
          "output_type": "stream",
          "text": [
            "Epoch= 5 Loss=0.6509148478507996 Batch_id=97 Accuracy=75.51: 100%|██████████| 98/98 [00:23<00:00,  4.22it/s]\n",
            "  0%|          | 0/98 [00:00<?, ?it/s]"
          ],
          "name": "stderr"
        },
        {
          "output_type": "stream",
          "text": [
            "\n",
            "Test set: Average loss: 0.0013, Accuracy: 7753/10000 (77.53%)\n",
            "\n",
            "Epoch: 6  LR:  0.03625126515151515\n"
          ],
          "name": "stdout"
        },
        {
          "output_type": "stream",
          "text": [
            "Epoch= 6 Loss=0.6485002636909485 Batch_id=97 Accuracy=78.12: 100%|██████████| 98/98 [00:22<00:00,  4.27it/s]\n",
            "  0%|          | 0/98 [00:00<?, ?it/s]"
          ],
          "name": "stderr"
        },
        {
          "output_type": "stream",
          "text": [
            "\n",
            "Test set: Average loss: 0.0013, Accuracy: 7756/10000 (77.56%)\n",
            "\n",
            "Epoch: 7  LR:  0.03435448484848485\n"
          ],
          "name": "stdout"
        },
        {
          "output_type": "stream",
          "text": [
            "Epoch= 7 Loss=0.6067997813224792 Batch_id=97 Accuracy=80.08: 100%|██████████| 98/98 [00:23<00:00,  4.25it/s]\n",
            "  0%|          | 0/98 [00:00<?, ?it/s]"
          ],
          "name": "stderr"
        },
        {
          "output_type": "stream",
          "text": [
            "\n",
            "Test set: Average loss: 0.0013, Accuracy: 7828/10000 (78.28%)\n",
            "\n",
            "Epoch: 8  LR:  0.032457704545454547\n"
          ],
          "name": "stdout"
        },
        {
          "output_type": "stream",
          "text": [
            "Epoch= 8 Loss=0.6238608360290527 Batch_id=97 Accuracy=81.28: 100%|██████████| 98/98 [00:23<00:00,  4.26it/s]\n",
            "  0%|          | 0/98 [00:00<?, ?it/s]"
          ],
          "name": "stderr"
        },
        {
          "output_type": "stream",
          "text": [
            "\n",
            "Test set: Average loss: 0.0009, Accuracy: 8376/10000 (83.76%)\n",
            "\n",
            "Epoch: 9  LR:  0.030560924242424244\n"
          ],
          "name": "stdout"
        },
        {
          "output_type": "stream",
          "text": [
            "Epoch= 9 Loss=0.5169017314910889 Batch_id=97 Accuracy=82.86: 100%|██████████| 98/98 [00:23<00:00,  4.22it/s]\n",
            "  0%|          | 0/98 [00:00<?, ?it/s]"
          ],
          "name": "stderr"
        },
        {
          "output_type": "stream",
          "text": [
            "\n",
            "Test set: Average loss: 0.0011, Accuracy: 8168/10000 (81.68%)\n",
            "\n",
            "Epoch: 10  LR:  0.02866414393939394\n"
          ],
          "name": "stdout"
        },
        {
          "output_type": "stream",
          "text": [
            "Epoch= 10 Loss=0.43575626611709595 Batch_id=97 Accuracy=83.65: 100%|██████████| 98/98 [00:23<00:00,  4.21it/s]\n",
            "  0%|          | 0/98 [00:00<?, ?it/s]"
          ],
          "name": "stderr"
        },
        {
          "output_type": "stream",
          "text": [
            "\n",
            "Test set: Average loss: 0.0009, Accuracy: 8436/10000 (84.36%)\n",
            "\n",
            "Epoch: 11  LR:  0.026767363636363634\n"
          ],
          "name": "stdout"
        },
        {
          "output_type": "stream",
          "text": [
            "Epoch= 11 Loss=0.4167039096355438 Batch_id=97 Accuracy=84.51: 100%|██████████| 98/98 [00:23<00:00,  4.24it/s]\n",
            "  0%|          | 0/98 [00:00<?, ?it/s]"
          ],
          "name": "stderr"
        },
        {
          "output_type": "stream",
          "text": [
            "\n",
            "Test set: Average loss: 0.0011, Accuracy: 8175/10000 (81.75%)\n",
            "\n",
            "Epoch: 12  LR:  0.024870583333333335\n"
          ],
          "name": "stdout"
        },
        {
          "output_type": "stream",
          "text": [
            "Epoch= 12 Loss=0.4289952218532562 Batch_id=97 Accuracy=85.05: 100%|██████████| 98/98 [00:23<00:00,  4.22it/s]\n",
            "  0%|          | 0/98 [00:00<?, ?it/s]"
          ],
          "name": "stderr"
        },
        {
          "output_type": "stream",
          "text": [
            "\n",
            "Test set: Average loss: 0.0008, Accuracy: 8592/10000 (85.92%)\n",
            "\n",
            "Epoch: 13  LR:  0.022973803030303032\n"
          ],
          "name": "stdout"
        },
        {
          "output_type": "stream",
          "text": [
            "Epoch= 13 Loss=0.4018547534942627 Batch_id=97 Accuracy=86.00: 100%|██████████| 98/98 [00:23<00:00,  4.21it/s]\n",
            "  0%|          | 0/98 [00:00<?, ?it/s]"
          ],
          "name": "stderr"
        },
        {
          "output_type": "stream",
          "text": [
            "\n",
            "Test set: Average loss: 0.0008, Accuracy: 8660/10000 (86.60%)\n",
            "\n",
            "Epoch: 14  LR:  0.02107702272727273\n"
          ],
          "name": "stdout"
        },
        {
          "output_type": "stream",
          "text": [
            "Epoch= 14 Loss=0.3695421516895294 Batch_id=97 Accuracy=86.82: 100%|██████████| 98/98 [00:23<00:00,  4.25it/s]\n",
            "  0%|          | 0/98 [00:00<?, ?it/s]"
          ],
          "name": "stderr"
        },
        {
          "output_type": "stream",
          "text": [
            "\n",
            "Test set: Average loss: 0.0009, Accuracy: 8482/10000 (84.82%)\n",
            "\n",
            "Epoch: 15  LR:  0.019180242424242423\n"
          ],
          "name": "stdout"
        },
        {
          "output_type": "stream",
          "text": [
            "Epoch= 15 Loss=0.304838091135025 Batch_id=97 Accuracy=87.43: 100%|██████████| 98/98 [00:23<00:00,  4.21it/s]\n",
            "  0%|          | 0/98 [00:00<?, ?it/s]"
          ],
          "name": "stderr"
        },
        {
          "output_type": "stream",
          "text": [
            "\n",
            "Test set: Average loss: 0.0007, Accuracy: 8771/10000 (87.71%)\n",
            "\n",
            "Epoch: 16  LR:  0.017283462121212123\n"
          ],
          "name": "stdout"
        },
        {
          "output_type": "stream",
          "text": [
            "Epoch= 16 Loss=0.33727604150772095 Batch_id=97 Accuracy=88.32: 100%|██████████| 98/98 [00:23<00:00,  4.23it/s]\n",
            "  0%|          | 0/98 [00:00<?, ?it/s]"
          ],
          "name": "stderr"
        },
        {
          "output_type": "stream",
          "text": [
            "\n",
            "Test set: Average loss: 0.0008, Accuracy: 8714/10000 (87.14%)\n",
            "\n",
            "Epoch: 17  LR:  0.01538668181818182\n"
          ],
          "name": "stdout"
        },
        {
          "output_type": "stream",
          "text": [
            "Epoch= 17 Loss=0.312664657831192 Batch_id=97 Accuracy=88.76: 100%|██████████| 98/98 [00:23<00:00,  4.23it/s]\n",
            "  0%|          | 0/98 [00:00<?, ?it/s]"
          ],
          "name": "stderr"
        },
        {
          "output_type": "stream",
          "text": [
            "\n",
            "Test set: Average loss: 0.0007, Accuracy: 8823/10000 (88.23%)\n",
            "\n",
            "Epoch: 18  LR:  0.013489901515151517\n"
          ],
          "name": "stdout"
        },
        {
          "output_type": "stream",
          "text": [
            "Epoch= 18 Loss=0.33316412568092346 Batch_id=97 Accuracy=89.43: 100%|██████████| 98/98 [00:23<00:00,  4.19it/s]\n",
            "  0%|          | 0/98 [00:00<?, ?it/s]"
          ],
          "name": "stderr"
        },
        {
          "output_type": "stream",
          "text": [
            "\n",
            "Test set: Average loss: 0.0006, Accuracy: 8999/10000 (89.99%)\n",
            "\n",
            "Epoch: 19  LR:  0.011593121212121214\n"
          ],
          "name": "stdout"
        },
        {
          "output_type": "stream",
          "text": [
            "Epoch= 19 Loss=0.2756505310535431 Batch_id=97 Accuracy=90.38: 100%|██████████| 98/98 [00:23<00:00,  4.24it/s]\n",
            "  0%|          | 0/98 [00:00<?, ?it/s]"
          ],
          "name": "stderr"
        },
        {
          "output_type": "stream",
          "text": [
            "\n",
            "Test set: Average loss: 0.0006, Accuracy: 9039/10000 (90.39%)\n",
            "\n",
            "Epoch: 20  LR:  0.009696340909090911\n"
          ],
          "name": "stdout"
        },
        {
          "output_type": "stream",
          "text": [
            "Epoch= 20 Loss=0.2355675995349884 Batch_id=97 Accuracy=91.17: 100%|██████████| 98/98 [00:23<00:00,  4.23it/s]\n",
            "  0%|          | 0/98 [00:00<?, ?it/s]"
          ],
          "name": "stderr"
        },
        {
          "output_type": "stream",
          "text": [
            "\n",
            "Test set: Average loss: 0.0006, Accuracy: 8919/10000 (89.19%)\n",
            "\n",
            "Epoch: 21  LR:  0.0077995606060606085\n"
          ],
          "name": "stdout"
        },
        {
          "output_type": "stream",
          "text": [
            "Epoch= 21 Loss=0.253264844417572 Batch_id=97 Accuracy=92.01: 100%|██████████| 98/98 [00:23<00:00,  4.24it/s]\n",
            "  0%|          | 0/98 [00:00<?, ?it/s]"
          ],
          "name": "stderr"
        },
        {
          "output_type": "stream",
          "text": [
            "\n",
            "Test set: Average loss: 0.0005, Accuracy: 9123/10000 (91.23%)\n",
            "\n",
            "Epoch: 22  LR:  0.0059027803030303055\n"
          ],
          "name": "stdout"
        },
        {
          "output_type": "stream",
          "text": [
            "Epoch= 22 Loss=0.17823481559753418 Batch_id=97 Accuracy=92.72: 100%|██████████| 98/98 [00:23<00:00,  4.22it/s]\n",
            "  0%|          | 0/98 [00:00<?, ?it/s]"
          ],
          "name": "stderr"
        },
        {
          "output_type": "stream",
          "text": [
            "\n",
            "Test set: Average loss: 0.0005, Accuracy: 9193/10000 (91.93%)\n",
            "\n",
            "Epoch: 23  LR:  0.004006000000000003\n"
          ],
          "name": "stdout"
        },
        {
          "output_type": "stream",
          "text": [
            "Epoch= 23 Loss=0.1974107176065445 Batch_id=97 Accuracy=93.89: 100%|██████████| 98/98 [00:23<00:00,  4.23it/s]\n"
          ],
          "name": "stderr"
        },
        {
          "output_type": "stream",
          "text": [
            "\n",
            "Test set: Average loss: 0.0004, Accuracy: 9222/10000 (92.22%)\n",
            "\n"
          ],
          "name": "stdout"
        }
      ]
    },
    {
      "cell_type": "markdown",
      "metadata": {
        "id": "LO4_qEQ4tc1t",
        "colab_type": "text"
      },
      "source": [
        "#LR plot\n"
      ]
    },
    {
      "cell_type": "code",
      "metadata": {
        "id": "XFzQvQURgMxw",
        "colab_type": "code",
        "outputId": "144304d3-f282-4a47-b45f-da7f866106c2",
        "colab": {
          "base_uri": "https://localhost:8080/",
          "height": 295
        }
      },
      "source": [
        "plt.plot(LR)\n",
        "plt.ylabel('Learning rate')\n",
        "plt.xlabel(\"epoch\")\n",
        "plt.title(\"Lr v/s epochs\")\n",
        "plt.show()"
      ],
      "execution_count": 0,
      "outputs": [
        {
          "output_type": "display_data",
          "data": {
            "image/png": "[encoded data removed]",
            "text/plain": [
              "<Figure size 432x288 with 1 Axes>"
            ]
          },
          "metadata": {
            "tags": [],
            "needs_background": "light"
          }
        }
      ]
    },
    {
      "cell_type": "markdown",
      "metadata": {
        "id": "BmkOuDQeR1rF",
        "colab_type": "text"
      },
      "source": [
        "#Test_class_performs"
      ]
    },
    {
      "cell_type": "code",
      "metadata": {
        "id": "rCAYstS_ozsK",
        "colab_type": "code",
        "outputId": "8cb96f06-f6e4-40be-d012-0ce861acb441",
        "colab": {
          "base_uri": "https://localhost:8080/",
          "height": 204
        }
      },
      "source": [
        "from tqdm import tqdm\n",
        "\n",
        "class_correct = list(0. for i in range(10))\n",
        "class_total = list(0. for i in range(10))\n",
        "with torch.no_grad():\n",
        "  pbar = tqdm(dataloader11.test_loader)\n",
        "  for i, (data, target) in enumerate(pbar):\n",
        "    data, target = data.to(device), target.to(device)\n",
        "    outputs = model(data)\n",
        "    _, predicted = torch.max(outputs, 1)\n",
        "    c = (predicted == target).squeeze()\n",
        "    for i in range(4):\n",
        "        label = target[i]\n",
        "        class_correct[label] += c[i].item()\n",
        "        class_total[label] += 1\n",
        "for i in range(10):\n",
        "  print('Accuracy of %5s : %2d %%' % (classes[i], 100 * class_correct[i] / class_total[i]))"
      ],
      "execution_count": 0,
      "outputs": [
        {
          "output_type": "stream",
          "text": [
            "100%|██████████| 20/20 [00:02<00:00,  8.55it/s]"
          ],
          "name": "stderr"
        },
        {
          "output_type": "stream",
          "text": [
            "Accuracy of plane : 100 %\n",
            "Accuracy of   car : 100 %\n",
            "Accuracy of  bird : 100 %\n",
            "Accuracy of   cat : 100 %\n",
            "Accuracy of  deer : 100 %\n",
            "Accuracy of   dog : 87 %\n",
            "Accuracy of  frog : 100 %\n",
            "Accuracy of horse : 100 %\n",
            "Accuracy of  ship : 100 %\n",
            "Accuracy of truck : 83 %\n"
          ],
          "name": "stdout"
        },
        {
          "output_type": "stream",
          "text": [
            "\n"
          ],
          "name": "stderr"
        }
      ]
    },
    {
      "cell_type": "markdown",
      "metadata": {
        "id": "IL8uh-9vRp5C",
        "colab_type": "text"
      },
      "source": [
        "#train_&_test_accuracy"
      ]
    },
    {
      "cell_type": "code",
      "metadata": {
        "id": "82m_iOvLC6PX",
        "colab_type": "code",
        "outputId": "f31cad6f-1133-4692-d9e8-05e94e241efb",
        "colab": {
          "base_uri": "https://localhost:8080/",
          "height": 567
        }
      },
      "source": [
        "fig, axs = plt.subplots(1,1,figsize=(12,9))\n",
        "plt.plot(train11.train_acc)\n",
        "plt.plot(test11.test_acc)\n",
        "\n",
        "plt.title('test & train Accuracy')\n",
        "plt.ylabel('Accuracy')\n",
        "plt.xlabel('epoch')\n",
        "plt.legend([\" train accuracy \", ' test accuracy '], loc='best')\n",
        "plt.show()"
      ],
      "execution_count": 0,
      "outputs": [
        {
          "output_type": "display_data",
          "data": {
            "image/png": "[encoded data removed]",
            "text/plain": [
              "<Figure size 864x648 with 1 Axes>"
            ]
          },
          "metadata": {
            "tags": [],
            "needs_background": "light"
          }
        }
      ]
    },
    {
      "cell_type": "markdown",
      "metadata": {
        "id": "zatpHb-UGtDP",
        "colab_type": "text"
      },
      "source": [
        "#Cyclic LR plot"
      ]
    },
    {
      "cell_type": "code",
      "metadata": {
        "id": "6dArO6GGGqKg",
        "colab_type": "code",
        "outputId": "af107533-71ab-4fd9-dba6-8373822127cd",
        "colab": {
          "base_uri": "https://localhost:8080/",
          "height": 265
        }
      },
      "source": [
        "def Cyclic_triangular(iterations , min_lr , max_lr , step_size):\n",
        "  lr_plot =[]\n",
        "  for iteration in range(iterations):\n",
        "    cycle = floor(1+iteration/(2*step_size))\n",
        "    x = np.abs(iteration/step_size - 2*cycle + 1)\n",
        "    lr = min_lr + (max_lr-min_lr)*(1-x)\n",
        "    lr_plot.append(lr)\n",
        "  plt.plot(list(range(iterations)),lr_plot)\n",
        "Cyclic_triangular(300,0.2,2,50)"
      ],
      "execution_count": 11,
      "outputs": [
        {
          "output_type": "display_data",
          "data": {
            "image/png": "[encoded data removed]",
            "text/plain": [
              "<Figure size 432x288 with 1 Axes>"
            ]
          },
          "metadata": {
            "tags": [],
            "needs_background": "light"
          }
        }
      ]
    },
    {
      "cell_type": "code",
      "metadata": {
        "id": "gQZSDoRtHZG7",
        "colab_type": "code",
        "colab": {}
      },
      "source": [
        ""
      ],
      "execution_count": 0,
      "outputs": []
    }
  ]
}